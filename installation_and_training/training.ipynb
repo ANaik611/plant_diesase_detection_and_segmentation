{
 "cells": [
  {
   "cell_type": "markdown",
   "metadata": {},
   "source": [
    "## Installation\n",
    "To set up the project locally and ensure a smooth development experience, please follow the detailed steps outlined below:\n",
    "\n",
    "### Prerequisites\n",
    "Before you begin, ensure you have the following software installed on your machine:\n",
    "\n",
    "- **Python**: Version 3.8 or higher is recommended. You can download it from [python.org](https://www.python.org/downloads/).\n",
    "- **Jupyter Notebook or Google Colab**: This project can be run in a Jupyter Notebook or Google Colab for ease of use.\n",
    "- **GPU Access**: For optimal performance, it's advisable to run the model on a machine with a GPU.\n",
    "\n",
    "### Step-by-Step Installation\n",
    "\n",
    "1. **Install the Ultralytics Library**:\n",
    "   Start by installing the `ultralytics` library, which includes the YOLOv8 model. You can do this using pip:\n",
    "\n",
    "   ```bash\n",
    "   !pip install ultralytics==8.0.196\n"
   ]
  },
  {
   "cell_type": "code",
   "execution_count": null,
   "metadata": {},
   "outputs": [],
   "source": [
    "from IPython import display\n",
    "display.clear_output()\n",
    "\n",
    "import ultralytics\n",
    "ultralytics.checks()  # Check installation\n",
    "from ultralytics import YOLO\n"
   ]
  },
  {
   "cell_type": "markdown",
   "metadata": {},
   "source": [
    "## TRAINING THE MODEL\n"
   ]
  },
  {
   "cell_type": "markdown",
   "metadata": {},
   "source": [
    "### Parameters Explained:\n",
    "- **model**: Specifies the pre-trained model to use (`yolov8s-seg.pt`).\n",
    "- **data**: Path to your dataset YAML file that contains information about the dataset.\n",
    "- **epochs**: Number of training epochs (set to 30 in this case).\n",
    "- **imgsz**: Size of the input images (640 pixels).\n",
    "- **project**: Directory to save the results.\n",
    "- **name**: Name of the training session for easy identification.\n"
   ]
  },
  {
   "cell_type": "code",
   "execution_count": null,
   "metadata": {},
   "outputs": [],
   "source": [
    "!yolo segment train model=yolov8s-seg.pt data=/content/drive/MyDrive/DATASET_NAME/data.yaml epochs=30 imgsz=640 project=/content/drive/MyDrive/results name=30_epochs_4k\n"
   ]
  }
 ],
 "metadata": {
  "language_info": {
   "name": "python"
  }
 },
 "nbformat": 4,
 "nbformat_minor": 2
}
