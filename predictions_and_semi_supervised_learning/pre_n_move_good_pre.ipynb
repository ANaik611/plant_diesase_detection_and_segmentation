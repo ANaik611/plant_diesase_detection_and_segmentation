{
 "cells": [
  {
   "cell_type": "code",
   "execution_count": null,
   "metadata": {},
   "outputs": [],
   "source": [
    "!pip install ultralytics==8.0.196\n",
    "\n",
    "from IPython import display\n",
    "display.clear_output()\n",
    "\n",
    "import ultralytics\n",
    "ultralytics.checks()\n",
    "\n",
    "from ultralytics import YOLO\n",
    "\n"
   ]
  },
  {
   "cell_type": "code",
   "execution_count": null,
   "metadata": {},
   "outputs": [],
   "source": [
    "!yolo task=segment mode=predict model= /content/drive/MyDrive/results/30_epochs_pt22/weights/best.pt conf=0.30 source=/content/ishika.JPG save_txt=True boxes=False project=/content/drive/MyDrive/predict name=anu\n"
   ]
  },
  {
   "cell_type": "markdown",
   "metadata": {},
   "source": [
    "**Manually review segmented images from YOLOv8 predictions, then transfer the validated ones to your training set for retraining the model.**"
   ]
  },
  {
   "cell_type": "code",
   "execution_count": null,
   "metadata": {},
   "outputs": [],
   "source": [
    "import os\n",
    "import shutil\n",
    "from pathlib import Path\n",
    "\n",
    "# Define paths\n",
    "predicted_labels = '/content/predict/result_0.3/labels'\n",
    "train_images = '/content/drive/MyDrive/dataset/train/images'\n",
    "unlabelled_dataset = '/content/drive/MyDrive/unlabelled_dataset'\n",
    "train_labels = '/content/drive/MyDrive/dataset/train/labels'\n",
    "\n",
    "# Ensure destination directories exist\n",
    "os.makedirs(train_labels, exist_ok=True)\n",
    "os.makedirs(train_images, exist_ok=True)\n",
    "\n",
    "predicted_labels_path = Path(predicted_labels)\n",
    "unlabelled_path = Path(unlabelled_dataset)\n",
    "train_images_path = Path(train_images)\n",
    "\n",
    "# Move associated JPG files to train_images\n",
    "for image_path in predicted_labels_path.glob('*.txt'):  # Adjust extension if needed\n",
    "    image_name = image_path.stem\n",
    "    mask_path = unlabelled_path / f\"{image_name}.jpg\"\n",
    "    destination_image_path = train_images_path / f\"{image_name}.jpg\"\n",
    "    if mask_path.exists():  # Ensure the file exists before moving\n",
    "        shutil.move(str(mask_path), str(destination_image_path))\n",
    "\n",
    "# Move items from predicted_labels to train_labels\n",
    "for item in os.listdir(predicted_labels):\n",
    "    source_item = os.path.join(predicted_labels, item)\n",
    "    destination_item = os.path.join(train_labels, item)\n",
    "    shutil.move(source_item, destination_item)\n",
    "\n",
    "print(\"Files moved successfully.\")\n"
   ]
  },
  {
   "cell_type": "markdown",
   "metadata": {},
   "source": [
    "**To count number of check dataset size**"
   ]
  },
  {
   "cell_type": "code",
   "execution_count": null,
   "metadata": {},
   "outputs": [],
   "source": [
    "import os\n",
    "\n",
    "def count_items_in_folder(folder_path):\n",
    "    try:\n",
    "        # Get the list of items in the folder\n",
    "        items = os.listdir(folder_path)\n",
    "\n",
    "        # Count the number of items\n",
    "        num_items = len(items)\n",
    "\n",
    "        return num_items\n",
    "    except Exception as e:\n",
    "        print(f\"An error occurred: {e}\")\n",
    "        return 0\n",
    "\n",
    "# Example usage\n",
    "folder_path = '/content/drive/MyDrive/dataset_final/dataset/images'  # Redataseplace with your folder path\n",
    "num_items = count_items_in_folder(folder_path)\n",
    "print(f\"Number of items in the folder: {num_items}\")\n"
   ]
  }
 ],
 "metadata": {
  "language_info": {
   "name": "python"
  }
 },
 "nbformat": 4,
 "nbformat_minor": 2
}
