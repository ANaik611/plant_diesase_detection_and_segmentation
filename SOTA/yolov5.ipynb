{
 "cells": [
  {
   "cell_type": "code",
   "execution_count": null,
   "metadata": {},
   "outputs": [],
   "source": [
    "# save the working directory path for later use\n",
    "\n",
    "import os\n",
    "HOME = os.getcwd()\n",
    "print(HOME)"
   ]
  },
  {
   "cell_type": "code",
   "execution_count": null,
   "metadata": {},
   "outputs": [],
   "source": [
    "# clone project repository and install dependencies\n",
    "\n",
    "!git clone https://github.com/ultralytics/yolov5.git # clone\n",
    "#%cd {HOME}/yolov5\n",
    "%pip install -r yolov5/requirements.txt # install\n",
    "\n",
    "import torch\n",
    " # checks"
   ]
  },
  {
   "cell_type": "markdown",
   "metadata": {},
   "source": [
    "I encountered an issue where I was unable to use the `utils` directory directly from the `yolov5` folder. To resolve this, I moved the `utils` directory to the `/content/` path using the following command:\n",
    "\n",
    "```python\n",
    "import shutil\n",
    "\n",
    "# Move the folder from the source to the destination\n",
    "shutil.move('/content/yolov5/utils', '/content/utils')\n"
   ]
  },
  {
   "cell_type": "code",
   "execution_count": null,
   "metadata": {},
   "outputs": [],
   "source": [
    "\n",
    "import shutil\n",
    "\n",
    "# Move the folder from the source to the destination\n",
    "shutil.move('/content/yolov5/utils', '/content/utils')"
   ]
  },
  {
   "cell_type": "code",
   "execution_count": null,
   "metadata": {},
   "outputs": [],
   "source": [
    "import utils\n",
    "display = utils.notebook_init()"
   ]
  },
  {
   "cell_type": "code",
   "execution_count": null,
   "metadata": {},
   "outputs": [],
   "source": [
    "# download pretrained weights\n",
    "\n",
    "from utils.downloads import attempt_download\n",
    "\n",
    "p5 = ['n', 's', 'm', 'l', 'x']  # P5 models\n",
    "cls = [f'{x}-seg' for x in p5]  # segmentation models\n",
    "\n",
    "for x in cls:\n",
    "    attempt_download(f'content/yolov5{x}.pt')"
   ]
  },
  {
   "cell_type": "markdown",
   "metadata": {},
   "source": [
    "## TRAINING ON OUR DATASET"
   ]
  },
  {
   "cell_type": "code",
   "execution_count": null,
   "metadata": {},
   "outputs": [],
   "source": [
    "%pwd\n",
    "!python /content/drive/MyDrive/hamnegadbadki/yolov5/segment/train.py --img 640 --batch 16 --epochs 30 --data /content/drive/MyDrive/hamnegadbadki/data.yaml --weights content/yolov5n-seg.pt --project content/drive/MyDrive/results --name yolo5"
   ]
  },
  {
   "cell_type": "markdown",
   "metadata": {},
   "source": [
    "VALIDATION"
   ]
  },
  {
   "cell_type": "code",
   "execution_count": null,
   "metadata": {},
   "outputs": [],
   "source": [
    "%cd {HOME}/yolov5\n",
    "!python segment/val.py --weights {HOME}/yolov5/runs/train-seg/custom-dataset/weights/best.pt --data {dataset.location}/data.yaml --img 320  --name custom-dataset"
   ]
  }
 ],
 "metadata": {
  "language_info": {
   "name": "python"
  }
 },
 "nbformat": 4,
 "nbformat_minor": 2
}
