{
 "cells": [
  {
   "cell_type": "markdown",
   "metadata": {},
   "source": [
    "# YOLOv8 SOTA Performance on Different Model Sizes\n",
    "\n",
    "In this experiment, I aimed to evaluate the performance of different variants of the YOLOv8 architecture on a specific dataset. YOLOv8 offers various model sizes to balance between accuracy and computational efficiency. The available models include:\n",
    "\n",
    "- **YOLOv8n** (nano): Smallest and most lightweight model, optimized for edge devices and real-time inference.\n",
    "- **YOLOv8s** (small): A compact model that strikes a balance between speed and accuracy.\n",
    "- **YOLOv8m** (medium): A more accurate model with a larger architecture, suitable for scenarios where computational resources allow for deeper networks.\n",
    "- **YOLOv8l** (large): Designed for higher accuracy with deeper layers, generally used for more powerful systems.\n",
    "- **YOLOv8x** (extra-large): The largest model, providing the highest accuracy, but also the most computationally demanding.\n",
    "- **YOLOv8xl** (extra-extra-large): The extreme model for state-of-the-art performance at the cost of very high computational resources.\n",
    "\n",
    "## Experiment Plan\n",
    "\n",
    "My goal was to evaluate how the performance (in terms of accuracy, precision, recall, and mAP) scales across different YOLOv8 models, namely:\n",
    "\n",
    "- **YOLOv8n** (Nano)\n",
    "- **YOLOv8s** (Small)\n",
    "- **YOLOv8m** (Medium)\n",
    "- **YOLOv8l** (Large)\n",
    "- **YOLOv8x** (Extra Large)\n",
    "- **YOLOv8xl** (Extra Extra Large)\n",
    "\n",
    "The expectation was that larger models would yield higher accuracy and mAP (mean Average Precision) but at the cost of increased computational resources and inference time.\n",
    "\n",
    "## Computational Limitations\n",
    "\n",
    "Due to the constraints of available computational resources, I faced significant challenges in training and testing the larger models (`YOLOv8x`, `YOLOv8xl`). These models require substantial amounts of GPU memory, which exceeded the capacity of my available hardware. As a result, I was unable to fully evaluate the following models:\n",
    "\n",
    "- **YOLOv8l**\n",
    "- **YOLOv8x**\n",
    "- **YOLOv8xl**\n",
    "\n",
    "Even though these models promise state-of-the-art performance, my system was unable to support their training and inference processes without experiencing memory issues or significantly long runtimes. \n",
    "\n",
    "To mitigate these limitations, I focused on the smaller models:\n",
    "- **YOLOv8n** (Nano) and **YOLOv8s** (Small) were successfully trained and tested with reasonable computational demands. These models proved to be efficient in terms of inference speed and required relatively low GPU memory, making them suitable for resource-constrained environments.\n",
    "- **YOLOv8m** (Medium) was the largest model I could run, and it provided better accuracy at a higher computational cost.\n",
    "\n",
    "\n",
    "\n",
    "While the larger models like **YOLOv8l**, **YOLOv8x**, and **YOLOv8xl** were expected to deliver superior performance due to their deeper architectures, I was unable to evaluate them due to hardware limitations. However, the smaller models—**YOLOv8n**, **YOLOv8s**, and **YOLOv8m**—performed well within the constraints, offering a good balance between speed and accuracy. For scenarios where computational resources are limited, **YOLOv8n** and **YOLOv8s** stand out as strong candidates for real-time applications.\n",
    "\n"
   ]
  },
  {
   "cell_type": "markdown",
   "metadata": {},
   "source": [
    "- **YOLOv8n** (Nano)"
   ]
  },
  {
   "cell_type": "code",
   "execution_count": null,
   "metadata": {},
   "outputs": [],
   "source": [
    "\n",
    "!yolo segment train model=yolov8n-seg.pt data=/content/drive/MyDrive/DATASET_NAME/data.yaml epochs=30 imgsz=640 project=/content/drive/MyDrive/results name=30_epochs_4k"
   ]
  },
  {
   "cell_type": "markdown",
   "metadata": {},
   "source": [
    "- **YOLOv8s** (small)"
   ]
  },
  {
   "cell_type": "code",
   "execution_count": null,
   "metadata": {},
   "outputs": [],
   "source": [
    "\n",
    "!yolo segment train model=yolov8s-seg.pt data=/content/drive/MyDrive/DATASET_NAME/data.yaml epochs=30 imgsz=640 project=/content/drive/MyDrive/results name=30_epochs_4k"
   ]
  },
  {
   "cell_type": "markdown",
   "metadata": {},
   "source": [
    "- **YOLOv8m** (medium)"
   ]
  },
  {
   "cell_type": "code",
   "execution_count": null,
   "metadata": {},
   "outputs": [],
   "source": [
    "\n",
    "!yolo segment train model=yolov8m-seg.pt data=/content/drive/MyDrive/DATASET_NAME/data.yaml epochs=30 imgsz=640 project=/content/drive/MyDrive/results name=30_epochs_4k"
   ]
  }
 ],
 "metadata": {
  "language_info": {
   "name": "python"
  }
 },
 "nbformat": 4,
 "nbformat_minor": 2
}
