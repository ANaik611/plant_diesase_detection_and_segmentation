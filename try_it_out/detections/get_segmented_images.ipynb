{
  "cells": [
    {
      "cell_type": "code",
      "execution_count": 1,
      "metadata": {
        "colab": {
          "base_uri": "https://localhost:8080/"
        },
        "id": "v8J_K3VdYR_P",
        "outputId": "881706eb-06f9-4daa-c563-018420ad4a06"
      },
      "outputs": [
        {
          "output_type": "stream",
          "name": "stderr",
          "text": [
            "Ultralytics YOLOv8.0.196 🚀 Python-3.10.12 torch-2.4.1+cu121 CUDA:0 (Tesla T4, 15102MiB)\n",
            "Setup complete ✅ (2 CPUs, 12.7 GB RAM, 36.4/112.6 GB disk)\n"
          ]
        }
      ],
      "source": [
        "!pip install ultralytics==8.0.196\n",
        "\n",
        "from IPython import display\n",
        "display.clear_output()\n",
        "\n",
        "import ultralytics\n",
        "ultralytics.checks()"
      ]
    },
    {
      "cell_type": "code",
      "execution_count": 2,
      "metadata": {
        "id": "2nsiNVMmYR_a"
      },
      "outputs": [],
      "source": [
        "from ultralytics import YOLO\n"
      ]
    },
    {
      "cell_type": "code",
      "execution_count": 3,
      "metadata": {
        "colab": {
          "base_uri": "https://localhost:8080/"
        },
        "id": "chYbGLcBYR_d",
        "outputId": "453893eb-562d-433c-b040-9c959558d8d9"
      },
      "outputs": [
        {
          "output_type": "stream",
          "name": "stdout",
          "text": [
            "Requirement already satisfied: Flask in /usr/local/lib/python3.10/dist-packages (2.2.5)\n",
            "Collecting pyngrok\n",
            "  Downloading pyngrok-7.2.0-py3-none-any.whl.metadata (7.4 kB)\n",
            "Requirement already satisfied: Werkzeug>=2.2.2 in /usr/local/lib/python3.10/dist-packages (from Flask) (3.0.4)\n",
            "Requirement already satisfied: Jinja2>=3.0 in /usr/local/lib/python3.10/dist-packages (from Flask) (3.1.4)\n",
            "Requirement already satisfied: itsdangerous>=2.0 in /usr/local/lib/python3.10/dist-packages (from Flask) (2.2.0)\n",
            "Requirement already satisfied: click>=8.0 in /usr/local/lib/python3.10/dist-packages (from Flask) (8.1.7)\n",
            "Requirement already satisfied: PyYAML>=5.1 in /usr/local/lib/python3.10/dist-packages (from pyngrok) (6.0.2)\n",
            "Requirement already satisfied: MarkupSafe>=2.0 in /usr/local/lib/python3.10/dist-packages (from Jinja2>=3.0->Flask) (2.1.5)\n",
            "Downloading pyngrok-7.2.0-py3-none-any.whl (22 kB)\n",
            "Installing collected packages: pyngrok\n",
            "Successfully installed pyngrok-7.2.0\n"
          ]
        }
      ],
      "source": [
        "!pip install Flask pyngrok\n"
      ]
    },
    {
      "cell_type": "code",
      "execution_count": 4,
      "metadata": {
        "colab": {
          "base_uri": "https://localhost:8080/"
        },
        "id": "xe7mdt0YYR_g",
        "outputId": "c5d17c6d-c238-4321-8c0f-8e0e459e715e"
      },
      "outputs": [
        {
          "output_type": "stream",
          "name": "stdout",
          "text": [
            "Authtoken saved to configuration file: /root/.config/ngrok/ngrok.yml\n"
          ]
        }
      ],
      "source": [
        "!ngrok authtoken 2ml1tvUfzrhhV7fLlwn1ixZUxsy_5ijjeyeRm2hJcqAL3M4XH\n"
      ]
    },
    {
      "cell_type": "markdown",
      "metadata": {
        "id": "5RjtxMHzYR_i"
      },
      "source": [
        "# YOLOv8 Segmentation Flask App\n",
        "\n",
        "This Flask application allows users to upload images for YOLOv8 segmentation, run the YOLOv8 model on the uploaded image, and display the output predictions. The app uses `pyngrok` to expose the Flask server publicly.\n",
        "\n",
        "## Requirements\n",
        "Ensure the following libraries are installed in your environment:\n",
        "\n",
        "```bash\n",
        "pip install Flask pyngrok ultralytics\n"
      ]
    },
    {
      "cell_type": "code",
      "execution_count": null,
      "metadata": {
        "colab": {
          "base_uri": "https://localhost:8080/"
        },
        "id": "T4lm1Vz8YR_n",
        "outputId": "fba5a6bf-089e-4dd3-fe31-f756a2380762"
      },
      "outputs": [
        {
          "output_type": "stream",
          "name": "stdout",
          "text": [
            "Your app is running at: NgrokTunnel: \"https://80b0-35-233-181-86.ngrok-free.app\" -> \"http://localhost:5000\"\n",
            " * Serving Flask app '__main__'\n",
            " * Debug mode: off\n"
          ]
        },
        {
          "output_type": "stream",
          "name": "stderr",
          "text": [
            "INFO:werkzeug:\u001b[31m\u001b[1mWARNING: This is a development server. Do not use it in a production deployment. Use a production WSGI server instead.\u001b[0m\n",
            " * Running on http://127.0.0.1:5000\n",
            "INFO:werkzeug:\u001b[33mPress CTRL+C to quit\u001b[0m\n",
            "INFO:werkzeug:127.0.0.1 - - [02/Oct/2024 19:07:23] \"GET / HTTP/1.1\" 200 -\n",
            "INFO:werkzeug:127.0.0.1 - - [02/Oct/2024 19:07:24] \"\u001b[33mGET /favicon.ico HTTP/1.1\u001b[0m\" 404 -\n"
          ]
        },
        {
          "output_type": "stream",
          "name": "stdout",
          "text": [
            "Executing YOLO command: yolo task=segment mode=predict model=/content/drive/MyDrive/results/30_epochs_pt22/weights/best.pt conf=0.30 source=/content/drive/MyDrive/uploads/anushka.JPG save_txt=True boxes=False project=/content/drive/MyDrive/predict/ name=meow611\n"
          ]
        },
        {
          "output_type": "stream",
          "name": "stderr",
          "text": [
            "INFO:werkzeug:127.0.0.1 - - [02/Oct/2024 19:07:46] \"POST /predict HTTP/1.1\" 200 -\n"
          ]
        },
        {
          "output_type": "stream",
          "name": "stdout",
          "text": [
            "Output images found: ['labels', 'anushka.JPG']\n"
          ]
        },
        {
          "output_type": "stream",
          "name": "stderr",
          "text": [
            "INFO:werkzeug:127.0.0.1 - - [02/Oct/2024 19:07:47] \"GET /uploads/anushka.JPG HTTP/1.1\" 200 -\n",
            "INFO:werkzeug:127.0.0.1 - - [02/Oct/2024 19:07:47] \"GET /predict/meow611/anushka.JPG HTTP/1.1\" 200 -\n"
          ]
        }
      ],
      "source": [
        "from flask import Flask, request, jsonify, send_from_directory\n",
        "import subprocess\n",
        "import os\n",
        "from pyngrok import ngrok\n",
        "\n",
        "app = Flask(__name__)\n",
        "\n",
        "# Directory to save uploaded images and output images\n",
        "UPLOAD_FOLDER = '/content/drive/MyDrive/uploads/'\n",
        "OUTPUT_FOLDER_BASE = '/content/drive/MyDrive/predict/'  # Base folder for output\n",
        "os.makedirs(UPLOAD_FOLDER, exist_ok=True)\n",
        "\n",
        "@app.route('/')\n",
        "def index():\n",
        "    return '''\n",
        "        <h1>Upload Image for YOLOv8 Segmentation</h1>\n",
        "        <form action=\"/predict\" method=\"post\" enctype=\"multipart/form-data\">\n",
        "            <label for=\"folder_name\">Enter Folder Name:</label>\n",
        "            <input type=\"text\" id=\"folder_name\" name=\"folder_name\" required>\n",
        "            <br><br>\n",
        "            <input type=\"file\" name=\"image\" accept=\"image/*\" required>\n",
        "            <br><br>\n",
        "            <input type=\"submit\" value=\"Upload\">\n",
        "        </form>\n",
        "    '''\n",
        "\n",
        "@app.route('/predict', methods=['POST'])\n",
        "def predict():\n",
        "    # Check if the folder name and image file were provided\n",
        "    folder_name = request.form.get('folder_name')\n",
        "    if 'image' not in request.files or not folder_name:\n",
        "        return jsonify({\"error\": \"Folder name or file part is missing\"}), 400\n",
        "\n",
        "    file = request.files['image']\n",
        "\n",
        "    # Check if the file name is empty\n",
        "    if file.filename == '':\n",
        "        return jsonify({\"error\": \"No selected file\"}), 400\n",
        "\n",
        "    # Create a directory for the user's predictions\n",
        "    output_folder = os.path.join(OUTPUT_FOLDER_BASE, folder_name)\n",
        "\n",
        "\n",
        "    # Save the uploaded file\n",
        "    image_path = os.path.join(UPLOAD_FOLDER, file.filename)\n",
        "    file.save(image_path)\n",
        "\n",
        "    # Define the YOLO command with the dynamic folder name\n",
        "    yolo_command = (\n",
        "        f\"yolo task=segment mode=predict model=/content/drive/MyDrive/results/30_epochs_pt22/weights/best.pt \"\n",
        "        f\"conf=0.30 source={image_path} save_txt=True boxes=False project={OUTPUT_FOLDER_BASE} name={folder_name}\"\n",
        "    )\n",
        "\n",
        "    print(\"Executing YOLO command:\", yolo_command)  # Debugging line\n",
        "\n",
        "    try:\n",
        "        subprocess.run(yolo_command, shell=True, check=True)\n",
        "\n",
        "        # Prepare output images for display\n",
        "        output_images = os.listdir(output_folder)\n",
        "        print(\"Output images found:\", output_images)  # Debugging line\n",
        "\n",
        "        # Filter only image files\n",
        "        output_image_urls = [\n",
        "            f\"/predict/{folder_name}/{img}\" for img in output_images\n",
        "            if img.endswith(('.JPG', '.png', '.jpeg'))\n",
        "        ]\n",
        "\n",
        "        # Create HTML response with both input and output images side by side\n",
        "        response_html = f'''\n",
        "            <div style=\"background-color: black; padding: 20px; color: white; text-align: center;\">\n",
        "                <h2>Prediction complete!</h2>\n",
        "                <div style=\"display: flex; justify-content: center; align-items: center;\">\n",
        "                    <div style=\"margin-right: 20px;\">\n",
        "                        <h3>Input Image</h3>\n",
        "                        <img src=\"/uploads/{file.filename}\" width=\"400\" style=\"border: 2px solid white;\">\n",
        "                    </div>\n",
        "                    <div>\n",
        "                        <h3>Predicted Output</h3><br>\n",
        "        '''\n",
        "        if output_image_urls:\n",
        "            for img_url in output_image_urls:\n",
        "                response_html += f'<img src=\"{img_url}\" width=\"400\" style=\"border: 2px solid white;\">'\n",
        "        else:\n",
        "            response_html += '<p>No output images found.</p>'\n",
        "        response_html += '</div></div></div>'\n",
        "\n",
        "        return response_html\n",
        "\n",
        "    except subprocess.CalledProcessError as e:\n",
        "        return jsonify({\"error\": str(e)}), 500\n",
        "\n",
        "@app.route('/predict/<path:folder_name>/<path:filename>')\n",
        "def serve_output_image(folder_name, filename):\n",
        "    folder_path = os.path.join(OUTPUT_FOLDER_BASE, folder_name)\n",
        "    return send_from_directory(folder_path, filename)\n",
        "\n",
        "# Serve input images\n",
        "@app.route('/uploads/<path:filename>')\n",
        "def serve_input_image(filename):\n",
        "    return send_from_directory(UPLOAD_FOLDER, filename)\n",
        "\n",
        "# Expose the Flask app on port 5000\n",
        "public_url = ngrok.connect(5000)\n",
        "print(f\"Your app is running at: {public_url}\")\n",
        "\n",
        "# Start the Flask app\n",
        "app.run(port=5000, debug=False)\n"
      ]
    },
    {
      "cell_type": "code",
      "execution_count": 5,
      "metadata": {
        "colab": {
          "base_uri": "https://localhost:8080/"
        },
        "id": "SxOnOzgrdQ68",
        "outputId": "1328eddd-0f28-45cb-e750-171129b5e78b"
      },
      "outputs": [
        {
          "output_type": "stream",
          "name": "stdout",
          "text": [
            "Mounted at /content/drive\n"
          ]
        }
      ],
      "source": [
        "from google.colab import drive\n",
        "drive.mount('/content/drive')"
      ]
    }
  ],
  "metadata": {
    "accelerator": "GPU",
    "colab": {
      "gpuType": "T4",
      "provenance": []
    },
    "kernelspec": {
      "display_name": "Python 3",
      "name": "python3"
    },
    "language_info": {
      "name": "python"
    }
  },
  "nbformat": 4,
  "nbformat_minor": 0
}