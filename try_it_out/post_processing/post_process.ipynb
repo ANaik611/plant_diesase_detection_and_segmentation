{
  "cells": [
    {
      "cell_type": "code",
      "execution_count": 1,
      "metadata": {
        "colab": {
          "base_uri": "https://localhost:8080/"
        },
        "id": "KT0cdykRoqiS",
        "outputId": "04efab13-c441-4de7-f8e0-ca0d9ae4c710"
      },
      "outputs": [
        {
          "output_type": "stream",
          "name": "stdout",
          "text": [
            "Requirement already satisfied: Flask in /usr/local/lib/python3.10/dist-packages (2.2.5)\n",
            "Collecting pyngrok\n",
            "  Downloading pyngrok-7.2.0-py3-none-any.whl.metadata (7.4 kB)\n",
            "Requirement already satisfied: Werkzeug>=2.2.2 in /usr/local/lib/python3.10/dist-packages (from Flask) (3.0.4)\n",
            "Requirement already satisfied: Jinja2>=3.0 in /usr/local/lib/python3.10/dist-packages (from Flask) (3.1.4)\n",
            "Requirement already satisfied: itsdangerous>=2.0 in /usr/local/lib/python3.10/dist-packages (from Flask) (2.2.0)\n",
            "Requirement already satisfied: click>=8.0 in /usr/local/lib/python3.10/dist-packages (from Flask) (8.1.7)\n",
            "Requirement already satisfied: PyYAML>=5.1 in /usr/local/lib/python3.10/dist-packages (from pyngrok) (6.0.2)\n",
            "Requirement already satisfied: MarkupSafe>=2.0 in /usr/local/lib/python3.10/dist-packages (from Jinja2>=3.0->Flask) (2.1.5)\n",
            "Downloading pyngrok-7.2.0-py3-none-any.whl (22 kB)\n",
            "Installing collected packages: pyngrok\n",
            "Successfully installed pyngrok-7.2.0\n"
          ]
        }
      ],
      "source": [
        "!pip install Flask pyngrok"
      ]
    },
    {
      "cell_type": "code",
      "execution_count": 2,
      "metadata": {
        "colab": {
          "base_uri": "https://localhost:8080/"
        },
        "id": "2y93la0ooqi3",
        "outputId": "3c35ca16-f125-467b-9b9b-737403cb2de8"
      },
      "outputs": [
        {
          "output_type": "stream",
          "name": "stdout",
          "text": [
            "Authtoken saved to configuration file: /root/.config/ngrok/ngrok.yml\n"
          ]
        }
      ],
      "source": [
        "!ngrok authtoken 2ml1tvUfzrhhV7fLlwn1ixZUxsy_5ijjeyeRm2hJcqAL3M4XH"
      ]
    },
    {
      "cell_type": "code",
      "execution_count": null,
      "metadata": {
        "colab": {
          "base_uri": "https://localhost:8080/"
        },
        "id": "3cXCtlTeoqi9",
        "outputId": "8ad337aa-a6a4-42fb-9f5d-e4277018580e"
      },
      "outputs": [
        {
          "output_type": "stream",
          "name": "stdout",
          "text": [
            "Your app is running at: NgrokTunnel: \"https://c176-35-185-62-207.ngrok-free.app\" -> \"http://localhost:5000\"\n",
            " * Serving Flask app '__main__'\n",
            " * Debug mode: off\n"
          ]
        },
        {
          "output_type": "stream",
          "name": "stderr",
          "text": [
            "INFO:werkzeug:\u001b[31m\u001b[1mWARNING: This is a development server. Do not use it in a production deployment. Use a production WSGI server instead.\u001b[0m\n",
            " * Running on http://127.0.0.1:5000\n",
            "INFO:werkzeug:\u001b[33mPress CTRL+C to quit\u001b[0m\n",
            "INFO:werkzeug:127.0.0.1 - - [02/Oct/2024 19:27:10] \"GET / HTTP/1.1\" 200 -\n",
            "INFO:werkzeug:127.0.0.1 - - [02/Oct/2024 19:27:10] \"\u001b[33mGET /favicon.ico HTTP/1.1\u001b[0m\" 404 -\n",
            "INFO:werkzeug:127.0.0.1 - - [02/Oct/2024 19:27:19] \"POST /process_image HTTP/1.1\" 200 -\n"
          ]
        },
        {
          "output_type": "stream",
          "name": "stdout",
          "text": [
            "Saving uploaded image to: /content/drive/MyDrive/uploads/soni.JPG\n",
            "Leaf area calculated: 31849\n"
          ]
        }
      ],
      "source": [
        "import cv2\n",
        "import numpy as np\n",
        "import os\n",
        "from flask import Flask, request, jsonify, send_from_directory, render_template_string\n",
        "from pyngrok import ngrok\n",
        "\n",
        "app = Flask(__name__)\n",
        "\n",
        "# Define the output folder and ensure it exists\n",
        "OUTPUT_FOLDER = '/content/drive/MyDrive/uploads'\n",
        "os.makedirs(OUTPUT_FOLDER, exist_ok=True)\n",
        "\n",
        "def bluish_grey_to_black(image_path, output_path):\n",
        "    image = cv2.imread(image_path)\n",
        "    hsv_image = cv2.cvtColor(image, cv2.COLOR_BGR2HSV)\n",
        "    lower_blue = np.array([0, 0, 50])\n",
        "    upper_blue = np.array([180, 50, 200])\n",
        "    mask = cv2.inRange(hsv_image, lower_blue, upper_blue)\n",
        "    image[mask > 0] = [0, 0, 0]\n",
        "    cv2.imwrite(output_path, image)\n",
        "    return image\n",
        "\n",
        "def calculate_leaf_area(image):\n",
        "    gray_image = cv2.cvtColor(image, cv2.COLOR_BGR2GRAY)\n",
        "    total_area = 256 * 256\n",
        "    black_area = np.sum(gray_image == 0)\n",
        "    leaf_area = total_area - black_area\n",
        "    return leaf_area\n",
        "\n",
        "def read_yolo_instance_segmentation_file(file_path):\n",
        "    with open(file_path, 'r') as file:\n",
        "        lines = file.readlines()\n",
        "    annotations = []\n",
        "    for line in lines:\n",
        "        parts = line.strip().split()\n",
        "        class_id = int(parts[0])\n",
        "        points = [(float(parts[i]) * 256, float(parts[i + 1]) * 256) for i in range(1, len(parts), 2)]\n",
        "        annotations.append((class_id, points))\n",
        "    return annotations\n",
        "\n",
        "def polygon_area(points):\n",
        "    n = len(points)\n",
        "    if n < 3:\n",
        "        return 0\n",
        "    area = 0.0\n",
        "    for i in range(n):\n",
        "        x1, y1 = points[i]\n",
        "        x2, y2 = points[(i + 1) % n]\n",
        "        area += x1 * y2\n",
        "        area -= x2 * y1\n",
        "    area = abs(area) / 2.0\n",
        "    return area\n",
        "\n",
        "def categorize_area(total_area,affected_area):\n",
        "    if total_area == 0:\n",
        "        return \"Total area cannot be zero.\"\n",
        "    percentage = (affected_area / total_area) * 100\n",
        "    if percentage < 0:\n",
        "        return \"Invalid affected area.\"\n",
        "    elif percentage <= 4:\n",
        "        category = \"Normal\"\n",
        "    elif percentage <= 20:\n",
        "        category = \"Infected\"\n",
        "    elif percentage <= 40:\n",
        "        category = \"Serious\"\n",
        "    elif percentage <= 60:\n",
        "        category = \"Critical\"\n",
        "    elif percentage <= 80:\n",
        "        category = \"Very Critical\"\n",
        "    else:\n",
        "        category = \"Dead\"\n",
        "    return percentage, category\n",
        "\n",
        "@app.route('/')\n",
        "def index():\n",
        "    # Frontend HTML with result display\n",
        "    html = '''\n",
        "    <!DOCTYPE html>\n",
        "    <html lang=\"en\">\n",
        "    <head>\n",
        "        <meta charset=\"UTF-8\">\n",
        "        <meta name=\"viewport\" content=\"width=device-width, initial-scale=1.0\">\n",
        "        <title>Leaf Area Detection</title>\n",
        "        <style>\n",
        "            body {\n",
        "                font-family: Arial, sans-serif;\n",
        "                margin: 20px;\n",
        "            }\n",
        "            h1 {\n",
        "                color: #333;\n",
        "            }\n",
        "            #result {\n",
        "                margin-top: 20px;\n",
        "                padding: 10px;\n",
        "                border: 1px solid #ccc;\n",
        "                display: none; /* Initially hidden */\n",
        "            }\n",
        "        </style>\n",
        "    </head>\n",
        "    <body>\n",
        "        <h1>Upload Image for Leaf Area Processing</h1>\n",
        "        <form id=\"uploadForm\" action=\"/process_image\" method=\"post\" enctype=\"multipart/form-data\">\n",
        "            <input type=\"file\" name=\"image\" accept=\"image/*\" required>\n",
        "            <button type=\"submit\">Upload</button>\n",
        "        </form>\n",
        "        <div id=\"result\">\n",
        "            <h2>Processing Result</h2>\n",
        "            <p id=\"leafArea\"></p>\n",
        "            <p id=\"totalArea\"></p>\n",
        "            <p id=\"category\"></p>\n",
        "        </div>\n",
        "        <script>\n",
        "            const form = document.getElementById('uploadForm');\n",
        "            form.onsubmit = async (e) => {\n",
        "                e.preventDefault();\n",
        "                const formData = new FormData(form);\n",
        "                const response = await fetch(form.action, {\n",
        "                    method: 'POST',\n",
        "                    body: formData\n",
        "                });\n",
        "                const result = await response.json();\n",
        "                if (response.ok) {\n",
        "                    document.getElementById('leafArea').innerText = \"Leaf Area: \" + result.leaf_area + \" pixels\";\n",
        "                    document.getElementById('totalArea').innerText = \"Total affected9 Area: \" + result.total_area + \" pixels\";\n",
        "                    document.getElementById('category').innerText = \"Category: \" + result.category;\n",
        "                    document.getElementById('result').style.display = 'block'; // Show result\n",
        "                } else {\n",
        "                    alert(\"Error: \" + result.error);\n",
        "                }\n",
        "            };\n",
        "        </script>\n",
        "    </body>\n",
        "    </html>\n",
        "    '''\n",
        "    return render_template_string(html)\n",
        "\n",
        "@app.route('/process_image', methods=['POST'])\n",
        "def process_image():\n",
        "    if 'image' not in request.files:\n",
        "        return jsonify({\"error\": \"No file part\"}), 400\n",
        "    file = request.files['image']\n",
        "    if file.filename == '':\n",
        "        return jsonify({\"error\": \"No selected file\"}), 400\n",
        "\n",
        "    # Save the uploaded file\n",
        "    image_path = os.path.join(OUTPUT_FOLDER, file.filename)\n",
        "    output_path = os.path.join(OUTPUT_FOLDER, f'processed_{file.filename}')\n",
        "    print(f\"Saving uploaded image to: {image_path}\")\n",
        "    file.save(image_path)\n",
        "\n",
        "    try:\n",
        "        # Process the image\n",
        "        processed_image = bluish_grey_to_black(image_path, output_path)\n",
        "        leaf_area = calculate_leaf_area(processed_image)\n",
        "        print(f\"Leaf area calculated: {leaf_area}\")\n",
        "\n",
        "        # path to text dir where your segmented images along with the labels is saved\n",
        "        txt_dir = '/content/drive/MyDrive/predict/meow611/labels'\n",
        "        total_area = 0.0\n",
        "\n",
        "        for filename in os.listdir(txt_dir):\n",
        "            if filename.endswith('.txt'):\n",
        "                file_path = os.path.join(txt_dir, filename)\n",
        "                annotations = read_yolo_instance_segmentation_file(file_path)\n",
        "                for class_id, points in annotations:\n",
        "                    area = polygon_area(points)\n",
        "                    total_area += area\n",
        "\n",
        "        percentage, category = categorize_area(leaf_area, total_area)\n",
        "\n",
        "        # Convert to standard Python types for JSON serialization\n",
        "        return jsonify({\n",
        "            \"leaf_area\": int(leaf_area),  # Ensure it's a standard Python int\n",
        "            \"total_area\": float(total_area),  # Ensure it's a standard Python float\n",
        "            \"category\": category\n",
        "        })\n",
        "\n",
        "    except Exception as e:\n",
        "        return jsonify({\"error\": str(e)}), 500\n",
        "\n",
        "@app.route('/process_image/<path:filename>')\n",
        "def serve_output_image(filename):\n",
        "    return send_from_directory(OUTPUT_FOLDER, filename)\n",
        "\n",
        "if __name__ == \"__main__\":\n",
        "    # Expose the Flask app on port 5000\n",
        "    public_url = ngrok.connect(5000)\n",
        "    print(f\"Your app is running at: {public_url}\")\n",
        "\n",
        "    # Start the Flask app\n",
        "    app.run(port=5000, debug=False)\n"
      ]
    },
    {
      "cell_type": "code",
      "source": [
        "from google.colab import drive\n",
        "drive.mount('/content/drive')"
      ],
      "metadata": {
        "colab": {
          "base_uri": "https://localhost:8080/"
        },
        "id": "0zHuKLGMpXXC",
        "outputId": "bcb31c68-ca36-4049-8d1b-29c17125c402"
      },
      "execution_count": 3,
      "outputs": [
        {
          "output_type": "stream",
          "name": "stdout",
          "text": [
            "Mounted at /content/drive\n"
          ]
        }
      ]
    }
  ],
  "metadata": {
    "language_info": {
      "name": "python"
    },
    "colab": {
      "provenance": []
    },
    "kernelspec": {
      "name": "python3",
      "display_name": "Python 3"
    }
  },
  "nbformat": 4,
  "nbformat_minor": 0
}