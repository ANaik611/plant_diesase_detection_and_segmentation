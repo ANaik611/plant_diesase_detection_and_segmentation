{
  "cells": [
    {
      "cell_type": "code",
      "execution_count": null,
      "metadata": {
        "colab": {
          "base_uri": "https://localhost:8080/"
        },
        "id": "KT0cdykRoqiS",
        "outputId": "9966d2a8-54f8-4538-8910-1c0f81055401"
      },
      "outputs": [
        {
          "name": "stdout",
          "output_type": "stream",
          "text": [
            "Requirement already satisfied: Flask in /usr/local/lib/python3.10/dist-packages (2.2.5)\n",
            "Collecting pyngrok\n",
            "  Downloading pyngrok-7.2.0-py3-none-any.whl.metadata (7.4 kB)\n",
            "Requirement already satisfied: Werkzeug>=2.2.2 in /usr/local/lib/python3.10/dist-packages (from Flask) (3.0.4)\n",
            "Requirement already satisfied: Jinja2>=3.0 in /usr/local/lib/python3.10/dist-packages (from Flask) (3.1.4)\n",
            "Requirement already satisfied: itsdangerous>=2.0 in /usr/local/lib/python3.10/dist-packages (from Flask) (2.2.0)\n",
            "Requirement already satisfied: click>=8.0 in /usr/local/lib/python3.10/dist-packages (from Flask) (8.1.7)\n",
            "Requirement already satisfied: PyYAML>=5.1 in /usr/local/lib/python3.10/dist-packages (from pyngrok) (6.0.2)\n",
            "Requirement already satisfied: MarkupSafe>=2.0 in /usr/local/lib/python3.10/dist-packages (from Jinja2>=3.0->Flask) (2.1.5)\n",
            "Downloading pyngrok-7.2.0-py3-none-any.whl (22 kB)\n",
            "Installing collected packages: pyngrok\n",
            "Successfully installed pyngrok-7.2.0\n"
          ]
        }
      ],
      "source": [
        "!pip install Flask pyngrok"
      ]
    },
    {
      "cell_type": "code",
      "execution_count": null,
      "metadata": {
        "colab": {
          "base_uri": "https://localhost:8080/"
        },
        "id": "2y93la0ooqi3",
        "outputId": "48eee6e4-570b-4a74-a35b-d227870c5a57"
      },
      "outputs": [
        {
          "name": "stdout",
          "output_type": "stream",
          "text": [
            "Authtoken saved to configuration file: /root/.config/ngrok/ngrok.yml\n"
          ]
        }
      ],
      "source": [
        "!ngrok authtoken 2mswHotIVN6PA0V0Rbcx7iWEK3P_5VMbF6WHctC4YQgmtW6Ri"
      ]
    },
    {
      "cell_type": "markdown",
      "metadata": {
        "id": "t0hbiHXKiEsP"
      },
      "source": []
    },
    {
      "cell_type": "code",
      "execution_count": null,
      "metadata": {
        "colab": {
          "base_uri": "https://localhost:8080/"
        },
        "id": "BAOrHV2BiJmR",
        "outputId": "8e4c6c72-0b90-4442-e698-97fb63653449"
      },
      "outputs": [
        {
          "name": "stderr",
          "output_type": "stream",
          "text": [
            "Ultralytics YOLOv8.0.196 🚀 Python-3.10.12 torch-2.4.1+cu121 CPU (Intel Xeon 2.20GHz)\n",
            "Setup complete ✅ (2 CPUs, 12.7 GB RAM, 36.5/107.7 GB disk)\n"
          ]
        }
      ],
      "source": [
        "!pip install ultralytics==8.0.196\n",
        "\n",
        "from IPython import display\n",
        "display.clear_output()\n",
        "\n",
        "import ultralytics\n",
        "ultralytics.checks()\n",
        "from ultralytics import YOLO"
      ]
    },
    {
      "cell_type": "code",
      "execution_count": null,
      "metadata": {
        "colab": {
          "base_uri": "https://localhost:8080/"
        },
        "id": "0zHuKLGMpXXC",
        "outputId": "6d03b392-f581-451f-b038-fa20c6b7779e"
      },
      "outputs": [
        {
          "name": "stdout",
          "output_type": "stream",
          "text": [
            "Mounted at /content/drive\n"
          ]
        }
      ],
      "source": [
        "from google.colab import drive\n",
        "drive.mount('/content/drive')"
      ]
    },
    {
      "cell_type": "code",
      "execution_count": null,
      "metadata": {
        "colab": {
          "background_save": true,
          "base_uri": "https://localhost:8080/"
        },
        "id": "5bEGq3-VxcLZ",
        "outputId": "ffa99ab5-f6dc-41ab-cfa7-52e239f6828d"
      },
      "outputs": [
        {
          "name": "stdout",
          "output_type": "stream",
          "text": [
            "Your app is running at: NgrokTunnel: \"https://aeed-35-186-174-7.ngrok-free.app\" -> \"http://localhost:5000\"\n",
            " * Serving Flask app '__main__'\n",
            " * Debug mode: off\n"
          ]
        },
        {
          "name": "stderr",
          "output_type": "stream",
          "text": [
            "INFO:werkzeug:\u001b[31m\u001b[1mWARNING: This is a development server. Do not use it in a production deployment. Use a production WSGI server instead.\u001b[0m\n",
            " * Running on http://127.0.0.1:5000\n",
            "INFO:werkzeug:\u001b[33mPress CTRL+C to quit\u001b[0m\n",
            "INFO:werkzeug:127.0.0.1 - - [04/Oct/2024 09:27:51] \"GET / HTTP/1.1\" 200 -\n",
            "INFO:werkzeug:127.0.0.1 - - [04/Oct/2024 09:27:52] \"\u001b[33mGET /favicon.ico HTTP/1.1\u001b[0m\" 404 -\n",
            "INFO:werkzeug:127.0.0.1 - - [04/Oct/2024 09:28:11] \"POST /process HTTP/1.1\" 200 -\n",
            "INFO:werkzeug:127.0.0.1 - - [04/Oct/2024 09:28:11] \"GET /uploads/anushka.JPG HTTP/1.1\" 200 -\n",
            "INFO:werkzeug:127.0.0.1 - - [04/Oct/2024 09:28:11] \"GET /predict/folyd/anushka.JPG HTTP/1.1\" 200 -\n"
          ]
        }
      ],
      "source": [
        "from flask import Flask, request, jsonify, send_from_directory, render_template_string\n",
        "import subprocess\n",
        "import os\n",
        "import cv2\n",
        "import numpy as np\n",
        "from pyngrok import ngrok\n",
        "\n",
        "app = Flask(__name__)\n",
        "\n",
        "# Directories to save uploaded images and output images\n",
        "UPLOAD_FOLDER = '/content/drive/MyDrive/internship/uploads/'\n",
        "OUTPUT_FOLDER_BASE = '/content/drive/MyDrive/internship/predict/'  # Base folder for output\n",
        "os.makedirs(UPLOAD_FOLDER, exist_ok=True)\n",
        "os.makedirs(OUTPUT_FOLDER_BASE, exist_ok=True)\n",
        "\n",
        "# Utility functions for image processing\n",
        "def bluish_grey_to_black(image_path, output_path):\n",
        "    image = cv2.imread(image_path)\n",
        "    hsv_image = cv2.cvtColor(image, cv2.COLOR_BGR2HSV)\n",
        "    lower_blue = np.array([0, 0, 50])\n",
        "    upper_blue = np.array([180, 50, 200])\n",
        "    mask = cv2.inRange(hsv_image, lower_blue, upper_blue)\n",
        "    image[mask > 0] = [0, 0, 0]\n",
        "    cv2.imwrite(output_path, image)\n",
        "    return image\n",
        "\n",
        "def calculate_leaf_area(image):\n",
        "    gray_image = cv2.cvtColor(image, cv2.COLOR_BGR2GRAY)\n",
        "    total_area = 256 * 256\n",
        "    black_area = np.sum(gray_image == 0)\n",
        "    leaf_area = total_area - black_area\n",
        "    return leaf_area\n",
        "\n",
        "def read_yolo_instance_segmentation_file(file_path):\n",
        "    with open(file_path, 'r') as file:\n",
        "        lines = file.readlines()\n",
        "    annotations = []\n",
        "    for line in lines:\n",
        "        parts = line.strip().split()\n",
        "        class_id = int(parts[0])\n",
        "        points = [(float(parts[i]) * 256, float(parts[i + 1]) * 256) for i in range(1, len(parts), 2)]\n",
        "        annotations.append((class_id, points))\n",
        "    return annotations\n",
        "\n",
        "def polygon_area(points):\n",
        "    n = len(points)\n",
        "    if n < 3:\n",
        "        return 0\n",
        "    area = 0.0\n",
        "    for i in range(n):\n",
        "        x1, y1 = points[i]\n",
        "        x2, y2 = points[(i + 1) % n]\n",
        "        area += x1 * y2\n",
        "        area -= x2 * y1\n",
        "    return abs(area) / 2.0\n",
        "\n",
        "def categorize_area(total_area, affected_area):\n",
        "    if total_area == 0:\n",
        "        return \"Total area cannot be zero.\"\n",
        "    percentage = (affected_area / total_area) * 100\n",
        "    if percentage < 0:\n",
        "        return \"Invalid affected area.\"\n",
        "    elif percentage <= 4:\n",
        "        category = \"Normal\"\n",
        "    elif percentage <= 20:\n",
        "        category = \"Infected\"\n",
        "    elif percentage <= 40:\n",
        "        category = \"Serious\"\n",
        "    elif percentage <= 60:\n",
        "        category = \"Critical\"\n",
        "    elif percentage <= 80:\n",
        "        category = \"Very Critical\"\n",
        "    else:\n",
        "        category = \"Dead\"\n",
        "    return percentage, category\n",
        "\n",
        "@app.route('/')\n",
        "def index():\n",
        "    return '''\n",
        "        <h1>Upload Image for YOLOv8 Segmentation and Post-Processing</h1>\n",
        "        <form action=\"/process\" method=\"post\" enctype=\"multipart/form-data\">\n",
        "            <label for=\"folder_name\">Enter Folder Name:</label>\n",
        "            <input type=\"text\" id=\"folder_name\" name=\"folder_name\" required>\n",
        "            <br><br>\n",
        "            <input type=\"file\" name=\"image\" accept=\"image/*\" required>\n",
        "            <br><br>\n",
        "            <input type=\"submit\" value=\"Upload and Process\">\n",
        "        </form>\n",
        "    '''\n",
        "\n",
        "@app.route('/process', methods=['POST'])\n",
        "def process():\n",
        "    folder_name = request.form.get('folder_name')\n",
        "    if 'image' not in request.files or not folder_name:\n",
        "        return jsonify({\"error\": \"Folder name or file part is missing\"}), 400\n",
        "\n",
        "    file = request.files['image']\n",
        "    if file.filename == '':\n",
        "        return jsonify({\"error\": \"No selected file\"}), 400\n",
        "\n",
        "    # Create user-specific folder for predictions\n",
        "    output_folder = os.path.join(OUTPUT_FOLDER_BASE, folder_name)\n",
        "\n",
        "    # Save uploaded image\n",
        "    image_path = os.path.join(UPLOAD_FOLDER, file.filename)\n",
        "    file.save(image_path)\n",
        "\n",
        "    try:\n",
        "        # YOLO command\n",
        "        yolo_command = (\n",
        "            f\"yolo task=segment mode=predict model=/content/drive/MyDrive/30_epochs_pt22/weights/best.pt \"\n",
        "            f\"conf=0.30 source={image_path} save_txt=True boxes=True project={OUTPUT_FOLDER_BASE} name={folder_name}\"\n",
        "        )\n",
        "        subprocess.run(yolo_command, shell=True, check=True)\n",
        "\n",
        "        # Post-process the uploaded image\n",
        "        output_path = os.path.join(UPLOAD_FOLDER, f'processed_{file.filename}')\n",
        "        processed_image = bluish_grey_to_black(image_path, output_path)\n",
        "        leaf_area = calculate_leaf_area(processed_image)\n",
        "\n",
        "        # Path to the folder containing segmented images with labels\n",
        "        txt_dir = os.path.join('/content/drive/MyDrive/internship/predict/', folder_name, 'labels')  # Adjust according to the output\n",
        "        total_area = 0.0\n",
        "\n",
        "        for filename in os.listdir(txt_dir):\n",
        "            if filename.endswith('.txt'):\n",
        "                file_path = os.path.join(txt_dir, filename)\n",
        "                annotations = read_yolo_instance_segmentation_file(file_path)\n",
        "                for class_id, points in annotations:\n",
        "                    area = polygon_area(points)\n",
        "                    total_area += area\n",
        "\n",
        "        percentage, category = categorize_area(leaf_area, total_area)\n",
        "\n",
        "        # Prepare output images for display\n",
        "        output_images = os.listdir(output_folder)\n",
        "\n",
        "        # Filter only image files\n",
        "        output_image_urls = [\n",
        "            f\"/predict/{folder_name}/{img}\" for img in output_images\n",
        "            if img.endswith(('.JPG', '.png', '.jpeg'))\n",
        "        ]\n",
        "\n",
        "        # HTML Response for displaying input and output images\n",
        "        response_html = f'''\n",
        "            <div style=\"background-color: black; padding: 20px; color: white; text-align: center;\">\n",
        "                <h2>Prediction complete!</h2>\n",
        "                <div style=\"display: flex; justify-content: center; align-items: center;\">\n",
        "                    <div style=\"margin-right: 20px;\">\n",
        "                        <h3>Input Image</h3>\n",
        "                        <img src=\"/uploads/{file.filename}\" width=\"400\" style=\"border: 2px solid white;\">\n",
        "                    </div>\n",
        "                    <div>\n",
        "                        <h3>Predicted Output</h3><br>\n",
        "\n",
        "        '''\n",
        "        if output_image_urls:\n",
        "            for img_url in output_image_urls:\n",
        "                response_html += f'<img src=\"{img_url}\" width=\"400\" style=\"border: 2px solid white;\">'\n",
        "        else:\n",
        "            response_html += '<p>No output images found.</p>'\n",
        "\n",
        "        response_html += f'''\n",
        "    <div style=\"color: white; text-align: center; margin-top: 20px;\">\n",
        "        <h3>Leaf Area: {leaf_area} pixels</h3>\n",
        "        <h3>Total Affected Area: {total_area:.2f} pixels</h3>\n",
        "        <h3>Percentage: {percentage:.2f}%</h3>\n",
        "        <h3>Category: {category}</h3>\n",
        "    </div>\n",
        "'''\n",
        "\n",
        "\n",
        "        # Return the HTML response\n",
        "        return render_template_string(response_html)\n",
        "\n",
        "    # Exception handling\n",
        "    except subprocess.CalledProcessError as e:\n",
        "        return jsonify({\"error\": str(e)}), 500\n",
        "\n",
        "    except Exception as e:\n",
        "        return jsonify({\"error\": str(e)}), 500\n",
        "\n",
        "# Serve input and processed images\n",
        "@app.route('/uploads/<path:filename>')\n",
        "def serve_image(filename):\n",
        "    return send_from_directory(UPLOAD_FOLDER, filename)\n",
        "\n",
        "\n",
        "@app.route('/predict/<path:folder_name>/<path:filename>')\n",
        "def serve_output_image(folder_name, filename):\n",
        "    folder_path = os.path.join(OUTPUT_FOLDER_BASE, folder_name)\n",
        "    return send_from_directory(folder_path, filename)\n",
        "\n",
        "if __name__ == \"__main__\":\n",
        "    # Expose the Flask app on port 5000\n",
        "    public_url = ngrok.connect(5000)\n",
        "    print(f\"Your app is running at: {public_url}\")\n",
        "\n",
        "    # Start the Flask app\n",
        "    app.run(port=5000, debug=False)\n"
      ]
    }
  ],
  "metadata": {
    "colab": {
      "provenance": []
    },
    "kernelspec": {
      "display_name": "Python 3",
      "name": "python3"
    },
    "language_info": {
      "name": "python"
    }
  },
  "nbformat": 4,
  "nbformat_minor": 0
}